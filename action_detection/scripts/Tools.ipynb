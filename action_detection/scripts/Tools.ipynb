{
 "cells": [
  {
   "cell_type": "markdown",
   "metadata": {},
   "source": [
    "# Alert Linear Classifier"
   ]
  },
  {
   "cell_type": "code",
   "execution_count": 1,
   "metadata": {},
   "outputs": [],
   "source": [
    "import torch\n",
    "import os\n",
    "import sys\n",
    "import json\n",
    "import copy\n",
    "import mmcv\n",
    "import cv2\n",
    "import random\n",
    "import subprocess\n",
    "import numpy as np\n",
    "import pickle as pkl\n",
    "from collections import defaultdict\n",
    "from fvcore.common.file_io import PathManager\n",
    "import matplotlib.pyplot as plt\n",
    "\n",
    "from sklearn.svm import LinearSVC\n",
    "from sklearn.metrics import f1_score, accuracy_score\n",
    "from sklearn.metrics import average_precision_score, roc_auc_score, precision_recall_curve\n",
    "from skimage.measure import block_reduce\n",
    "\n",
    "from slowfast.datasets.ava_helper import parse_bboxes_file\n",
    "from slowfast.datasets.cv2_transform import revert_scaled_boxes\n",
    "from slowfast.utils.ava_eval_helper import (\n",
    "    make_image_key,\n",
    "    read_labelmap,\n",
    "    read_csv,\n",
    "    \n",
    ")\n",
    "from slowfast.visualization.video_visualizer import VideoVisualizer\n",
    "\n",
    "\n",
    "\n",
    "root_dir = '/n/fs/vai-bwc-scr/'\n",
    "vid_dir = os.path.join(root_dir, 'TW_videos/')\n",
    "out_dir = os.path.join(root_dir, 'action_detection/outputs/')\n",
    "\n",
    "# Police Body-worn Camera Action annotations \n",
    "POBCA_PATH = os.path.join(root_dir, 'action_detection/annotations/audit.json')\n",
    "# Slowfast predictions path\n",
    "PREDS_PATH = os.path.join(root_dir, 'action_detection/annotations/bwc_frames_shifted_0.csv')\n",
    "AVA_CLS = os.path.join(root_dir, 'action_detection/slowfast/demo/AVA/ava_classnames.json')\n",
    "LABELMAP = '/n/fs/vai-bwc-scr/action_detection/annotations/bwc_ava_action_labelmap.pbtxt'\n",
    "ALERT_FEATS_PATH = '/n/fs/vai-bwc-scr/action_detection/annotations/alert_features.pkl'\n",
    "\n",
    "C3D_extractor = os.path.join(root_dir, 'action_detection/scripts/extract_C3D_feature.py')\n",
    "\n"
   ]
  },
  {
   "cell_type": "code",
   "execution_count": 12,
   "metadata": {},
   "outputs": [
    {
     "ename": "CalledProcessError",
     "evalue": "Command '['python', '/n/fs/vai-bwc-scr/action_detection/scripts/extract_C3D_feature.py', '/n/fs/vai-bwc-scr/TW_videos/AXON_Body_2_Video_2019-07-08_065_848x480_redactedAP 415.mp4', '/n/fs/vai-bwc-scr/action_detection/outputs/C3D/AXON_Body_2_Video_2019-07-08_065_848x480_redactedAP_415']' returned non-zero exit status 1.",
     "output_type": "error",
     "traceback": [
      "\u001b[0;31m---------------------------------------------------------------------------\u001b[0m",
      "\u001b[0;31mCalledProcessError\u001b[0m                        Traceback (most recent call last)",
      "\u001b[0;32m<ipython-input-12-052d8473163a>\u001b[0m in \u001b[0;36m<module>\u001b[0;34m\u001b[0m\n\u001b[1;32m      4\u001b[0m     \u001b[0;32mif\u001b[0m \u001b[0;32mnot\u001b[0m \u001b[0mos\u001b[0m\u001b[0;34m.\u001b[0m\u001b[0mpath\u001b[0m\u001b[0;34m.\u001b[0m\u001b[0mexists\u001b[0m\u001b[0;34m(\u001b[0m\u001b[0mext_dir\u001b[0m\u001b[0;34m)\u001b[0m\u001b[0;34m:\u001b[0m\u001b[0;34m\u001b[0m\u001b[0;34m\u001b[0m\u001b[0m\n\u001b[1;32m      5\u001b[0m         \u001b[0mos\u001b[0m\u001b[0;34m.\u001b[0m\u001b[0mmkdir\u001b[0m\u001b[0;34m(\u001b[0m\u001b[0mext_dir\u001b[0m\u001b[0;34m)\u001b[0m\u001b[0;34m\u001b[0m\u001b[0;34m\u001b[0m\u001b[0m\n\u001b[0;32m----> 6\u001b[0;31m     \u001b[0msubprocess\u001b[0m\u001b[0;34m.\u001b[0m\u001b[0mcheck_call\u001b[0m\u001b[0;34m(\u001b[0m\u001b[0;34m[\u001b[0m\u001b[0;34m'python'\u001b[0m\u001b[0;34m,\u001b[0m \u001b[0mC3D_extractor\u001b[0m\u001b[0;34m,\u001b[0m \u001b[0mos\u001b[0m\u001b[0;34m.\u001b[0m\u001b[0mpath\u001b[0m\u001b[0;34m.\u001b[0m\u001b[0mjoin\u001b[0m\u001b[0;34m(\u001b[0m\u001b[0mvid_dir\u001b[0m\u001b[0;34m,\u001b[0m \u001b[0mvid\u001b[0m\u001b[0;34m)\u001b[0m\u001b[0;34m,\u001b[0m \u001b[0mext_dir\u001b[0m\u001b[0;34m]\u001b[0m\u001b[0;34m)\u001b[0m\u001b[0;34m\u001b[0m\u001b[0;34m\u001b[0m\u001b[0m\n\u001b[0m",
      "\u001b[0;32m/n/fs/vai-bwc-scr/miniconda/envs/pytorch-openpose/lib/python3.7/subprocess.py\u001b[0m in \u001b[0;36mcheck_call\u001b[0;34m(*popenargs, **kwargs)\u001b[0m\n\u001b[1;32m    361\u001b[0m         \u001b[0;32mif\u001b[0m \u001b[0mcmd\u001b[0m \u001b[0;32mis\u001b[0m \u001b[0;32mNone\u001b[0m\u001b[0;34m:\u001b[0m\u001b[0;34m\u001b[0m\u001b[0;34m\u001b[0m\u001b[0m\n\u001b[1;32m    362\u001b[0m             \u001b[0mcmd\u001b[0m \u001b[0;34m=\u001b[0m \u001b[0mpopenargs\u001b[0m\u001b[0;34m[\u001b[0m\u001b[0;36m0\u001b[0m\u001b[0;34m]\u001b[0m\u001b[0;34m\u001b[0m\u001b[0;34m\u001b[0m\u001b[0m\n\u001b[0;32m--> 363\u001b[0;31m         \u001b[0;32mraise\u001b[0m \u001b[0mCalledProcessError\u001b[0m\u001b[0;34m(\u001b[0m\u001b[0mretcode\u001b[0m\u001b[0;34m,\u001b[0m \u001b[0mcmd\u001b[0m\u001b[0;34m)\u001b[0m\u001b[0;34m\u001b[0m\u001b[0;34m\u001b[0m\u001b[0m\n\u001b[0m\u001b[1;32m    364\u001b[0m     \u001b[0;32mreturn\u001b[0m \u001b[0;36m0\u001b[0m\u001b[0;34m\u001b[0m\u001b[0;34m\u001b[0m\u001b[0m\n\u001b[1;32m    365\u001b[0m \u001b[0;34m\u001b[0m\u001b[0m\n",
      "\u001b[0;31mCalledProcessError\u001b[0m: Command '['python', '/n/fs/vai-bwc-scr/action_detection/scripts/extract_C3D_feature.py', '/n/fs/vai-bwc-scr/TW_videos/AXON_Body_2_Video_2019-07-08_065_848x480_redactedAP 415.mp4', '/n/fs/vai-bwc-scr/action_detection/outputs/C3D/AXON_Body_2_Video_2019-07-08_065_848x480_redactedAP_415']' returned non-zero exit status 1."
     ]
    }
   ],
   "source": [
    "vid_names = ['Body-Cam Video #1.mp4', 'Body-Cam Video #3.mp4','AXON_Body_2_Video_2019-07-08_065_848x480_redactedAP 415.mp4']\n",
    "for vid in vid_names[2:]:\n",
    "    ext_dir = os.path.join(out_dir, 'C3D',vid[:-4].replace(' ', '_'))\n",
    "    if not os.path.exists(ext_dir):\n",
    "        os.mkdir(ext_dir)\n",
    "    subprocess.check_call(['python', C3D_extractor, os.path.join(vid_dir, vid), ext_dir])\n"
   ]
  },
  {
   "cell_type": "markdown",
   "metadata": {},
   "source": [
    "## Load data"
   ]
  },
  {
   "cell_type": "code",
   "execution_count": 3,
   "metadata": {},
   "outputs": [],
   "source": [
    "def load_gt_annos(gt_path, d_labels, d_scores, categories):\n",
    "    \n",
    "    with open(gt_path) as f:                                                                                                                                                       \n",
    "        bwc_data = json.load(f)\n",
    "    \n",
    "    gt_boxes = defaultdict(list)\n",
    "    gt_labels = defaultdict(list)\n",
    "    gt_scores = defaultdict(list)\n",
    "    for vid in bwc_data:\n",
    "        title = vid['data']['image_url'][0].split('/')[0]\n",
    "        num_frames = len(vid['data']['image_url'])\n",
    "        for bbox in vid['result']['data']:\n",
    "\n",
    "            frame_sec = int(bbox['frame'])\n",
    "\n",
    "            image_key = make_image_key(title, frame_sec)\n",
    "            \n",
    "            # ignore first person labels - irrelevant for AVA\n",
    "            if 'First Person POV' in bbox['category']:\n",
    "                continue\n",
    "            \n",
    "            # prediction failure\n",
    "            if image_key not in d_labels:\n",
    "                d_labels[image_key] = [int(item['id']) for item in categories]\n",
    "                d_scores[image_key] = [0.0]*len(categories)\n",
    "\n",
    "            box_list = bbox['coordinate']\n",
    "            box = [box_list[0]['y'], box_list[0]['x'], box_list[2]['y'], box_list[2]['x']]\n",
    "\n",
    "            # search for matching BWC labels in AVA category labels\n",
    "            for label in bbox['labelAttrs']:\n",
    "                if len(label['value']) != 0:\n",
    "                    for label_val in label['value']:\n",
    "                        for item in categories:\n",
    "                            if item['name'].split(' ')[0] in label_val.lower() or item['name'].split('/')[0] in label_val.lower():\n",
    "                                gt_boxes[image_key].append(box)\n",
    "                                gt_labels[image_key].append(int(item['id']))\n",
    "                                gt_scores[image_key].append(1.0)\n",
    "\n",
    "    return gt_boxes, gt_labels, gt_scores\n",
    "\n",
    "def load_alert_features(feat_path):\n",
    "    feats = pkl.load(open(feat_path, 'rb'))\n",
    "    return feats\n",
    "\n",
    "def create_alert_labels(gt_labels, d_labels, d_scores, alert_feats, num_classes):\n",
    "    alert_dict = {}\n",
    "    # frame in detections but not in gt\n",
    "    #for image_key in d_labels:\n",
    "    #    alert_label = 0\n",
    "    #    if image_key not in gt_labels and alert_feats[image_key].shape[0] == 691200:\n",
    "    #        alert_dict[image_key] = [alert_feats[image_key], alert_label]\n",
    "            \n",
    "    # iterate through all detected frames\n",
    "    for image_key in d_labels:\n",
    "        if alert_feats[image_key].shape[0] != 691200:\n",
    "            continue\n",
    "            \n",
    "        alert_label = 0\n",
    "        \n",
    "        # false positive\n",
    "        if image_key not in gt_labels:\n",
    "            alert_dict[image_key] = [alert_feats[image_key], alert_label]\n",
    "            continue\n",
    "            \n",
    "        # iterate through all detected boxes  \n",
    "        for box_idx in range(int(len(d_labels[image_key])/num_classes)):\n",
    "            curr_labels = d_labels[image_key][box_idx*num_classes:min((box_idx+1)*num_classes, len(d_labels[image_key]))]\n",
    "            curr_scores = d_scores[image_key][box_idx*num_classes:min((box_idx+1)*num_classes, len(d_scores[image_key]))]\n",
    "            # iterate through all possible gt matches \n",
    "            for cls_idx in gt_labels[image_key]: \n",
    "                d_idx = curr_labels.index(int(cls_idx))\n",
    "                score = curr_scores[d_idx]\n",
    "                # score above threshold -> matches a gt action class\n",
    "                if (int(cls_idx) == 14 and score > 0.57) or (int(cls_idx) == 11 and score > 0.04) or \\\n",
    "                    ((int(cls_idx) == 3) or (int(cls_idx) == 12) and score > 0.01) or (int(cls_idx) == 30 and score > 0.02):\n",
    "                    alert_label = 1\n",
    "                    break \n",
    "        alert_dict[image_key] = [alert_feats[image_key], alert_label]\n",
    "\n",
    "    return alert_dict\n",
    "            \n",
    "def k_fold_split(info, k):\n",
    "    names = np.array(list(info.keys()))\n",
    "    interval = names.shape[0]//k\n",
    "    random.shuffle(names)\n",
    "    fts_and_labels = []\n",
    "    test_keys = []\n",
    "    for split in range(k):\n",
    "        mask = np.zeros(names.shape)\n",
    "        mask[split*interval:min((split+1)*interval, len(names))] = 1\n",
    "        train = names[mask == 0]\n",
    "        test = names[mask == 1]\n",
    "        fold_train_fts = []\n",
    "        fold_train_labels = []\n",
    "        fold_test_fts = []\n",
    "        fold_test_labels = [] \n",
    "        for train_name in train:\n",
    "            fold_train_fts.append(info[train_name][0])\n",
    "            fold_train_labels.append(info[train_name][1])\n",
    "        for test_name in test:\n",
    "            fold_test_fts.append(info[test_name][0])\n",
    "            fold_test_labels.append(info[test_name][1]) \n",
    "        fts_and_labels.append([fold_train_fts, fold_train_labels, fold_test_fts, fold_test_labels])\n",
    "        test_keys.append(test)\n",
    "    return fts_and_labels, test_keys\n",
    "    \n",
    "def video_split(info):\n",
    "    names = np.array(list(info.keys()))\n",
    "    fts_and_labels = []\n",
    "    train_fts = []\n",
    "    train_labels = []\n",
    "    test_fts = []\n",
    "    test_labels = []\n",
    "    test_keys = []\n",
    "    for name in names:\n",
    "        if 'AXON' in name or 'Video_#3' in name:\n",
    "            train_fts.append(info[name][0])\n",
    "            train_labels.append(info[name][1])\n",
    "        else:\n",
    "            test_fts.append(info[name][0])\n",
    "            test_labels.append(info[name][1]) \n",
    "            test_keys.append(name)\n",
    "    fts_and_labels.append([train_fts, train_labels, test_fts, test_labels])\n",
    "    test_keys.append(test)\n",
    "    return fts_and_labels, test_keys\n",
    "    "
   ]
  },
  {
   "cell_type": "markdown",
   "metadata": {},
   "source": [
    "## Train and Test"
   ]
  },
  {
   "cell_type": "code",
   "execution_count": 10,
   "metadata": {},
   "outputs": [],
   "source": [
    "def train(alert_data):\n",
    "    #fts_and_labels, test_keys = k_fold_split(alert_data, 5)\n",
    "    fts_and_labels, test_keys = video_split(alert_data)\n",
    "    models = []\n",
    "    test_data = []\n",
    "    for fold_train_fts, fold_train_labels, fold_test_fts, fold_test_labels in fts_and_labels:\n",
    "        print(fold_train_labels)\n",
    "        print(fold_test_labels)\n",
    "        models.append(LinearSVC().fit(fold_train_fts, fold_train_labels))\n",
    "        test_data.append([fold_test_fts, fold_test_labels])\n",
    "    return models, test_data, test_keys\n",
    "\n",
    "def test(models, test_data, test_keys):\n",
    "    labels_and_scores = []\n",
    "    alert_test_labels = {}\n",
    "    # test models\n",
    "    for i, fold in enumerate(test_data):\n",
    "        test_fts = fold[0]\n",
    "        test_labels = fold[1]\n",
    "        score = models[i].predict(test_fts)\n",
    "        labels_and_scores.append([test_labels, score])\n",
    "        alert_test_labels.update(dict(zip(test_keys[i], score)))\n",
    "       \n",
    "    return np.array(labels_and_scores), alert_test_labels"
   ]
  },
  {
   "cell_type": "markdown",
   "metadata": {},
   "source": [
    "## Evaluation"
   ]
  },
  {
   "cell_type": "code",
   "execution_count": 11,
   "metadata": {},
   "outputs": [],
   "source": [
    "def plot_precision_recall(labels_and_scores):   \n",
    "    # precision recall curve\n",
    "    precision = dict()\n",
    "    recall = dict()\n",
    "    for i, fold in enumerate(labels_and_scores):\n",
    "        AP = average_precision_score(fold[0], fold[1])\n",
    "        precision, recall, _ = precision_recall_curve(fold[0], fold[1])\n",
    "        plt.plot(recall, precision, lw=2, label='fold  '+str(i)+': {0:0.2f}'.format(AP))\n",
    "    \n",
    "    plt.xlabel(\"recall\")\n",
    "    plt.ylabel(\"precision\")\n",
    "    plt.legend(loc=\"best\")\n",
    "    plt.title(\"precision vs. recall curve\")\n",
    "\n",
    "    plt.show()\n",
    "    \n",
    "def get_auroc(labels_and_scores):\n",
    "    cross = []\n",
    "    for i, fold in enumerate(labels_and_scores):\n",
    "        cross.append(roc_auc_score(fold[0], fold[1]))\n",
    "    return np.average(cross)\n",
    "\n",
    "def get_f1_score(gt_labels, d_labels, d_scores, num_classes, alert_labels=None):\n",
    "    pred = []\n",
    "    gt = []\n",
    "    overlap_classes = [3,11,12,14,30]\n",
    "    keys = d_labels\n",
    "    if alert_labels is not None:\n",
    "        keys = alert_labels\n",
    "            \n",
    "    # iterate through all frames\n",
    "    for image_key in keys:\n",
    "        if alert_labels is not None and alert_labels[image_key] == 0:\n",
    "            continue\n",
    "            \n",
    "        # iterate through all boxes\n",
    "        for box_idx in range(int(len(d_labels[image_key])/num_classes)):\n",
    "            curr_labels = d_labels[image_key][box_idx*num_classes:min((box_idx+1)*num_classes, len(d_labels[image_key]))]\n",
    "            curr_scores = d_scores[image_key][box_idx*num_classes:min((box_idx+1)*num_classes, len(d_scores[image_key]))]                \n",
    "            # iterate through all possible gt matches\n",
    "            gt_label = 0\n",
    "            pred_label = 0\n",
    "            for idx in overlap_classes:\n",
    "                # gt action class present in bbox\n",
    "                if idx in gt_labels[image_key]:\n",
    "                    gt_label = 1         \n",
    "                d_idx = curr_labels.index(int(idx))\n",
    "                score = curr_scores[d_idx]\n",
    "                # score above threshold -> matches a gt action class\n",
    "                if (idx == 14 and score > 0.57) or (idx == 11 and score > 0.04) or \\\n",
    "                    ((idx == 3) or (idx == 12) and score > 0.01) or (idx == 30 and score > 0.02):\n",
    "                    pred_label = 1\n",
    "                \n",
    "                pred.append(pred_label)\n",
    "                gt.append(gt_label)               \n",
    "                \n",
    "    return f1_score(gt, pred)"
   ]
  },
  {
   "cell_type": "markdown",
   "metadata": {},
   "source": [
    "## Get boxes, labels, scores"
   ]
  },
  {
   "cell_type": "code",
   "execution_count": 12,
   "metadata": {},
   "outputs": [],
   "source": [
    "# get detections\n",
    "categories, class_whitelist = read_labelmap(LABELMAP)\n",
    "num_classes = len(class_whitelist)\n",
    "#print(class_whitelist)\n",
    "detections = read_csv(PREDS_PATH, class_whitelist, load_score=True)\n",
    "d_boxes, d_labels, d_scores = detections\n",
    "# get gt labels\n",
    "gt_boxes, gt_labels, gt_scores = load_gt_annos(POBCA_PATH, d_labels, d_scores, categories)"
   ]
  },
  {
   "cell_type": "markdown",
   "metadata": {},
   "source": [
    "## F1 score all actions"
   ]
  },
  {
   "cell_type": "code",
   "execution_count": 13,
   "metadata": {},
   "outputs": [
    {
     "name": "stdout",
     "output_type": "stream",
     "text": [
      "0.6621180658558291\n"
     ]
    }
   ],
   "source": [
    "score = get_f1_score(gt_labels, d_labels, d_scores, num_classes)\n",
    "print(score)"
   ]
  },
  {
   "cell_type": "markdown",
   "metadata": {},
   "source": [
    "## Alert model"
   ]
  },
  {
   "cell_type": "code",
   "execution_count": 14,
   "metadata": {},
   "outputs": [
    {
     "name": "stdout",
     "output_type": "stream",
     "text": [
      "321\n",
      "[0 1 0 0 0 0 0 0 1 1 0 0 0 1 1 1 1 0 1 1 1 1 1 1 1 1 1 0 1 1 1 1 1 1 1 1 1\n",
      " 1 1 0 1 1 1 1 1 1 0 1 1 1 1 1 1 1 1 1 1 1 1 1 1 1 1 1 1 1 1 1 1 1 1 1 1 1\n",
      " 1 1 1 1 1 1 1 1 1 1 1 1 1 1 1 1 1 1 1 1 1 1 1 1 1 1 1 1 1 1 1 1 1 1 1 1 1\n",
      " 1 1 1 1 1 1 1 1 1 1 1 1 1 1 1 1 1 1 1 1 1 1 1 1 1 1 1 1 1 1 1 1 1 1 1 1 1\n",
      " 1 1 1 1 1 1 1 0 0 1 1 1 1 1 1 1 1 1 1 1 1 1 1 1 1 1 1 1 1 1 1 1 1 1 1 1 1\n",
      " 1 1 1 1 1 1 1 1 1 1 1 1 1 1 1 1 0 1 1 1 1 1 1 1 1 1 1 1 1 1 1 1 1 1 1 1 1\n",
      " 1 1 1 1 1 0 0 1 1 1 1 1 1 1 1 1 1 1 1 1 0 0 0 0 0 0 0 0 0 0 0 0 0 0 0 0 0\n",
      " 0 0 0 0 0 0 0 1 0 0 0 0 0 0 0 0 0 0 0 0 0 0 0 1 1 1 1 0 0 0 0 0 0 0 0 0 0\n",
      " 0 0 0 0 0 0 0 0 0 0 0 0 0 0 0 0 0 0 0 0 0 0 0 0 0]\n",
      "228\n",
      "[0, 1, 0, 0, 0, 0, 0, 0, 1, 1, 0, 0, 0, 1, 1, 1, 1, 0, 1, 1, 1, 1, 1, 1, 1, 1, 1, 0, 1, 1, 1, 1, 1, 1, 1, 1, 1, 1, 1, 0, 1, 1, 1, 1, 1, 1, 0, 1, 1, 1, 1, 1, 1, 1, 1, 1, 1, 1, 1, 1, 1, 1, 1, 1, 1, 1, 1, 1, 1, 1, 1, 1, 1, 1, 1, 1, 1, 1, 1, 1, 1, 1, 1, 1, 1, 1, 1, 1, 1, 1, 1, 1, 1, 1, 1, 1, 1, 1, 1, 1, 1, 1, 1, 1, 1, 1, 1, 1, 1, 1, 1, 1, 1, 1, 1, 1, 1, 1, 1, 1, 1, 1, 1, 1, 1, 1, 1, 1, 1, 1, 1, 1, 1, 1, 1, 1, 1, 1, 1, 1, 1, 1, 1, 1, 1, 1, 1, 1, 1, 1, 1, 1, 1, 1, 1, 0, 0, 1, 1, 1, 1, 1, 1, 1, 1, 1, 1, 1, 1, 1, 1, 1, 1, 1, 1, 1, 1, 1, 1, 1, 1, 1, 1, 1, 1, 1, 1, 1, 1, 1, 1, 1, 1, 1, 1, 1, 1, 1, 1, 1, 1, 0, 1, 1, 1, 1, 1, 1, 1, 1, 1, 1, 1, 1, 1, 1, 1, 1, 1, 1, 1, 1, 1, 1, 0, 0, 1, 1, 1, 1, 1, 1, 1, 1, 1, 1, 1, 1, 1, 0, 0, 0, 0, 0, 0, 0, 0, 0, 0, 0, 0, 0, 0, 0, 0, 0, 0, 0, 0, 0, 0, 0, 0, 1, 0, 0, 0, 0, 0, 0, 0, 0, 0, 0, 0, 0, 0, 0, 0, 0, 0, 0, 0, 0, 0, 0, 0, 0, 0, 0, 0, 0, 0, 0, 0]\n",
      "[1, 1, 1, 0, 0, 0, 0, 0, 0, 0, 0, 1, 1, 1, 1, 0, 0, 0, 0, 0, 0, 0, 0, 0, 0, 0]\n"
     ]
    }
   ],
   "source": [
    "# get alert features\n",
    "feats = load_alert_features(ALERT_FEATS_PATH)\n",
    "# get alert labels\n",
    "alert_dict = create_alert_labels(gt_labels, d_labels, d_scores, feats, num_classes)\n",
    "#print(alert_dict)\n",
    "print(len(alert_dict.keys()))\n",
    "print(np.array(list(alert_dict.values()))[:,1])\n",
    "print(sum(np.array(list(alert_dict.values()))[:,1]))\n",
    "# train and test svm\n",
    "models, test_data, test_keys = train(alert_dict)"
   ]
  },
  {
   "cell_type": "code",
   "execution_count": 15,
   "metadata": {},
   "outputs": [
    {
     "name": "stdout",
     "output_type": "stream",
     "text": [
      "[[[1 1 1 0 0 0 0 0 0 0 0 1 1 1 1 0 0 0 0 0 0 0 0 0 0 0]\n",
      "  [0 0 0 0 0 0 0 0 1 0 0 0 0 1 0 0 1 0 1 1 1 0 0 0 0 1]]]\n",
      "auroc: 0.41353383458646614\n"
     ]
    },
    {
     "data": {
      "image/png": "[encoded data removed]",
      "text/plain": [
       "<Figure size 432x288 with 1 Axes>"
      ]
     },
     "metadata": {
      "needs_background": "light"
     },
     "output_type": "display_data"
    }
   ],
   "source": [
    "#for model in models:\n",
    " #   print(model.coef_)\n",
    "#print(sum(np.array(test_data)[:,1][2]))\n",
    "labs_scores, alert_test_labels = test(models, test_data, test_keys)\n",
    "print(labs_scores)\n",
    "#print(len(alert_test_labels.keys()))\n",
    "#print(sum(np.array(list(alert_test_labels.values()))))\n",
    "# eval\n",
    "print('auroc: ' + str(get_auroc(labs_scores)))\n",
    "plot_precision_recall(labs_scores)"
   ]
  },
  {
   "cell_type": "code",
   "execution_count": 85,
   "metadata": {},
   "outputs": [
    {
     "name": "stdout",
     "output_type": "stream",
     "text": [
      "0.0\n"
     ]
    },
    {
     "name": "stderr",
     "output_type": "stream",
     "text": [
      "/n/fs/vai-bwc-scr/miniconda/envs/pytorch-openpose/lib/python3.7/site-packages/scikit_learn-0.23.2-py3.7-linux-x86_64.egg/sklearn/metrics/_classification.py:1465: UndefinedMetricWarning: F-score is ill-defined and being set to 0.0 due to no true nor predicted samples. Use `zero_division` parameter to control this behavior.\n",
      "  average, \"true nor predicted\", 'F-score is', len(true_sum)\n"
     ]
    }
   ],
   "source": [
    "#print(alert_test_labels)\n",
    "score = get_f1_score(gt_labels, d_labels, d_scores, num_classes, alert_test_labels)\n",
    "print(score)"
   ]
  },
  {
   "cell_type": "markdown",
   "metadata": {},
   "source": [
    "## Thresholding Action Classes"
   ]
  },
  {
   "cell_type": "code",
   "execution_count": 14,
   "metadata": {},
   "outputs": [],
   "source": [
    "def get_classes(path):\n",
    "        try:\n",
    "            with PathManager.open(path, \"r\") as f:\n",
    "                class2idx = json.load(f)\n",
    "                return class2idx\n",
    "        except Exception as err:\n",
    "            print(\"Fail to load file from {} with error {}\".format(path, err))\n",
    "            return\n",
    "\n",
    "def create_alert_labels_one_class(gt_labels, d_labels, d_scores, num_classes, idx, thres, alert_labels=None):\n",
    "    pred = []\n",
    "    gt = []\n",
    "    keys = gt_labels\n",
    "    if alert_labels is not None:\n",
    "        keys = alert_labels\n",
    "    # iterate through all frames\n",
    "    for image_key in keys:\n",
    "        if alert_labels is not None and alert_labels[image_key] == 0:\n",
    "            continue\n",
    "        # iterate through all boxes\n",
    "        for box_idx in range(int(len(d_labels[image_key])/num_classes)):\n",
    "            gt_label = 0\n",
    "            pred_label = 0\n",
    "            curr_labels = d_labels[image_key][box_idx*num_classes:min((box_idx+1)*num_classes, len(d_labels[image_key]))]\n",
    "            curr_scores = d_scores[image_key][box_idx*num_classes:min((box_idx+1)*num_classes, len(d_scores[image_key]))]\n",
    "            # gt action class present in bbox\n",
    "            if idx in gt_labels[image_key]:\n",
    "                gt_label = 1\n",
    "\n",
    "            # get detected score of action class\n",
    "            d_idx = curr_labels.index(int(idx))\n",
    "            score = curr_scores[d_idx]\n",
    "            # score above threshold -> prediction\n",
    "            if score > thres:\n",
    "                pred_label = 1\n",
    "\n",
    "            pred.append(pred_label)\n",
    "            gt.append(gt_label)\n",
    "                \n",
    "    return pred, gt"
   ]
  },
  {
   "cell_type": "code",
   "execution_count": 15,
   "metadata": {},
   "outputs": [
    {
     "name": "stdout",
     "output_type": "stream",
     "text": [
      "14\n"
     ]
    },
    {
     "data": {
      "image/png": "[encoded data removed]",
      "text/plain": [
       "<Figure size 432x288 with 1 Axes>"
      ]
     },
     "metadata": {
      "needs_background": "light"
     },
     "output_type": "display_data"
    },
    {
     "name": "stdout",
     "output_type": "stream",
     "text": [
      "Best Threshold: 0.5700000000000001\n"
     ]
    }
   ],
   "source": [
    "class2idx = get_classes(AVA_CLS)\n",
    "search_action = 'walk'\n",
    "idx = [val for key, val in class2idx.items() if search_action in key][0]+1\n",
    "print(idx)\n",
    "# get labels\n",
    "thres_range = np.linspace(0,1,101)\n",
    "f1_scores = []\n",
    "#pred, gt = create_alert_labels_one_class(gt_labels, d_labs, d_scores, num_classes, idx, 0.5)\n",
    "\n",
    "for thres in thres_range:\n",
    "    pred, gt = create_alert_labels_one_class(gt_labels, d_labels, d_scores, num_classes, idx, thres)#, alert_test_labels)\n",
    "    f1_scores.append(f1_score(gt, pred))\n",
    "\n",
    "plt.plot(thres_range, f1_scores)\n",
    "    \n",
    "plt.xlabel(\"Detection threshold value\")\n",
    "plt.ylabel(\"F1 score\")\n",
    "#plt.legend(loc=\"best\")\n",
    "plt.title(\"F1 score vs. Threshold for action \\'\"+search_action+\"\\'\")\n",
    "\n",
    "plt.show()\n",
    "\n",
    "best_thres = thres_range[np.argmax(f1_scores)]\n",
    "print('Best Threshold: ' + str(best_thres))\n",
    "\n"
   ]
  },
  {
   "cell_type": "code",
   "execution_count": null,
   "metadata": {},
   "outputs": [],
   "source": []
  },
  {
   "cell_type": "code",
   "execution_count": 28,
   "metadata": {},
   "outputs": [],
   "source": [
    "def load_boxes_labels(video_name, preds_boxes_path, total_frames=0, action_span=0):\n",
    "    \"\"\"\n",
    "    Loading boxes and labels from AVA bounding boxes csv files.\n",
    "    Args:\n",
    "        video_name (str): name of the given video.\n",
    "        preds_boxes_path  (str): path to predicted boxes file (csv)\n",
    "    Returns:\n",
    "        preds_boxes (dict): a dict which maps from `frame_idx` to a list of `boxes`\n",
    "            and `labels`. Each `box` is a list of 4 box coordinates. `labels[i]` is\n",
    "            a list of labels for `boxes[i]`. Note that label is -1 for predicted boxes.\n",
    "    \"\"\"\n",
    "    def process_bboxes_dict(dictionary, total_frames, action_span):\n",
    "        \"\"\" \n",
    "        merge all [`box_coordinate`, `box_labels`] pairs into\n",
    "        [`all_boxes_coordinates`, `all_boxes_labels`] for each `keyframe_idx`.\n",
    "        Args:\n",
    "            dictionary (dict): a dictionary which maps `frame_idx` to a list of `box`.\n",
    "                Each `box` is a [`box_coord`, `box_labels`] where `box_coord` is the\n",
    "                coordinates of box and 'box_labels` are the corresponding\n",
    "                labels for the box.\n",
    "        Returns:\n",
    "            new_dict (dict): a dict which maps from `frame_idx` to a list of `boxes`\n",
    "                and `labels`. Each `box` in `boxes` is a list of 4 box coordinates. `labels[i]`\n",
    "                is a list of labels for `boxes[i]`. Note that label is -1 for predicted boxes.\n",
    "        \"\"\"\n",
    "        new_dict = {}\n",
    "        for keyframe_idx, boxes_and_labels in dictionary.items():\n",
    "            # Ignore keyframes with no boxes\n",
    "            if len(boxes_and_labels) == 0:\n",
    "                continue\n",
    "            boxes, labels = list(zip(*boxes_and_labels))\n",
    "            boxes = np.array(boxes)\n",
    "            new_dict[keyframe_idx] = [boxes.tolist(), list(labels)]\n",
    "            for i in range(action_span):\n",
    "                before = max(0, keyframe_idx-i-1)\n",
    "                after = min(total_frames, keyframe_idx+i+1)\n",
    "                if before not in new_dict:    \n",
    "                    new_dict[before] = [boxes.tolist(), list(labels)]\n",
    "                if after not in new_dict:\n",
    "                    new_dict[after] = [boxes.tolist(), list(labels)]\n",
    "        return new_dict\n",
    "\n",
    "    preds_boxes, _, _ = parse_bboxes_file(\n",
    "        ann_filenames=[preds_boxes_path],\n",
    "        ann_is_gt_box=[False],\n",
    "        detect_thresh=0.9,\n",
    "        boxes_sample_rate=1,\n",
    "    )\n",
    "    preds_boxes = preds_boxes[video_name]\n",
    "    preds_boxes = process_bboxes_dict(preds_boxes, total_frames, action_span)\n",
    "\n",
    "    return preds_boxes"
   ]
  },
  {
   "cell_type": "code",
   "execution_count": 29,
   "metadata": {},
   "outputs": [],
   "source": [
    "from IPython.display import Image, display\n",
    "\n",
    "def demo_alert(video_name, preds_boxes_path, model):\n",
    "    vid_path = os.path.join(vid_dir, video_name)                                                                                                                  \n",
    "    video = mmcv.VideoReader(vid_path)\n",
    "    fps = round(video.fps)\n",
    "    dim = (video.width, video.height)\n",
    "    fourcc = cv2.VideoWriter_fourcc(*'mp4v')\n",
    "    pred_boxes = load_boxes_labels(video_name[:-4], preds_boxes_path, len(video), 0)\n",
    "    # get AVA visualizer for display\n",
    "    common_classes = (\n",
    "            [\"watch (a person)\",\n",
    "             \"talk to (e.g., self, a person, a group)\",\n",
    "             \"listen to (a person)\",\n",
    "             \"touch (an object)\",\n",
    "             \"carry/hold (an object)\",\n",
    "             \"walk\",\n",
    "             \"sit\",\n",
    "             \"lie/sleep\",\n",
    "             \"bend/bow (at the waist)\"]\n",
    "    )\n",
    "    video_vis = VideoVisualizer(\n",
    "        num_classes=400,\n",
    "        class_names_path=AVA_CLS,\n",
    "        top_k=3,\n",
    "        thres=0.7,\n",
    "        lower_thres=0.3,\n",
    "        common_class_names=common_classes,\n",
    "        colormap=\"Pastel2\",\n",
    "        mode=\"top-k\",\n",
    "    )\n",
    "    for frame_id in range(len(video)):\n",
    "        frame = video[frame_id]      \n",
    "        if frame_id in pred_boxes:\n",
    "            # get predicted boxes and labels for frame\n",
    "            pred_boxes_frame = pred_boxes[frame_id]\n",
    "            bboxes = pred_boxes_frame[0]\n",
    "            label = pred_boxes_frame[1]\n",
    "            for i in range(len(bboxes)):\n",
    "                 print('alert scores: ' + str(model.decision_function(np.array(label).reshape(1, -1))))\n",
    "            \n",
    "            # scale to video size\n",
    "            bboxes = revert_scaled_boxes(256, np.array(bboxes), video.height, video.width)\n",
    "                    \n",
    "            # Draw predictions.\n",
    "            frame = video_vis.draw_one_frame(\n",
    "                frame,\n",
    "                torch.Tensor(label),\n",
    "                bboxes=torch.Tensor(bboxes))\n",
    "            \n",
    "            display(Image(frame))\n",
    "            \n",
    "            \n",
    "            "
   ]
  },
  {
   "cell_type": "code",
   "execution_count": 30,
   "metadata": {},
   "outputs": [],
   "source": [
    "demo_alert('Body-Cam Video #1.mp4', PREDS_PATH, models[0])"
   ]
  },
  {
   "cell_type": "code",
   "execution_count": 26,
   "metadata": {},
   "outputs": [
    {
     "name": "stdout",
     "output_type": "stream",
     "text": [
      "[[0 1 2]\n",
      " [3 4 5]\n",
      " [6 7 8]]\n",
      "[[6 7 8]]\n"
     ]
    }
   ],
   "source": [
    "from skimage.measure import block_reduce\n",
    "image = [[0,1,3]]\n",
    "print(image)\n",
    "image_max2 = block_reduce(image, block_size=(3, 1), func=np.max)\n",
    "print(image_max2)"
   ]
  },
  {
   "cell_type": "code",
   "execution_count": null,
   "metadata": {},
   "outputs": [],
   "source": []
  }
 ],
 "metadata": {
  "kernelspec": {
   "display_name": "Python 3",
   "language": "python",
   "name": "python3"
  },
  "language_info": {
   "codemirror_mode": {
    "name": "ipython",
    "version": 3
   },
   "file_extension": ".py",
   "mimetype": "text/x-python",
   "name": "python",
   "nbconvert_exporter": "python",
   "pygments_lexer": "ipython3",
   "version": "3.7.7"
  }
 },
 "nbformat": 4,
 "nbformat_minor": 4
}
