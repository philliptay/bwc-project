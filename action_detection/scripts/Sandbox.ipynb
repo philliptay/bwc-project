{
 "cells": [
  {
   "cell_type": "code",
   "execution_count": 2,
   "id": "a3d6095c",
   "metadata": {},
   "outputs": [],
   "source": [
    "import torch\n",
    "import os\n",
    "import mmcv\n",
    "import sys\n",
    "import cv2\n",
    "import copy\n",
    "import numpy as np\n",
    "import argparse\n",
    "import subprocess\n",
    "import math\n",
    "\n",
    "root_dir = '/n/fs/vai-bwc-scr/'\n",
    "\n",
    "TW_dir     = os.path.join(root_dir, 'annotations/TW_annotations')\n",
    "TW_paths   = [os.path.join(TW_dir, x) for x in os.listdir(TW_dir)]\n",
    "title_path = os.path.join(root_dir, 'annotations/URLs/ids_and_titles.txt')\n",
    "\n",
    "out_dir = os.path.join(root_dir, 'TW_videos')\n"
   ]
  },
  {
   "cell_type": "code",
   "execution_count": 3,
   "id": "32dfa381",
   "metadata": {},
   "outputs": [],
   "source": [
    "IDs_to_titles = {}\n",
    "with open(title_path, 'r') as f:\n",
    "    for line in f:\n",
    "        line = line.strip()\n",
    "        ID, title = line[:9], line[10:]\n",
    "        title = title.replace(' ', '*')\n",
    "        title = ''.join(title.split())\n",
    "        title = title.replace('*', ' ') + '.mp4'\n",
    "        IDs_to_titles[ID] = title\n",
    "TWs = {}\n",
    "for TW_path in TW_paths:\n",
    "    if not \"BWC\" in TW_path or '.swp' in TW_path:\n",
    "        continue\n",
    "    with open(TW_path, 'r') as f:\n",
    "        for line in f:\n",
    "            if 'vimeo' in line: \n",
    "                curr_ID = line.strip().split()[0][-9:]\n",
    "                TWs[curr_ID] = []\n",
    "            elif line.strip() == '':\n",
    "                continue\n",
    "            else:\n",
    "                line_split = line.strip().split()\n",
    "                t1, t2 = line_split[:2]\n",
    "                timeframe = []\n",
    "                for t in [t1, t2]:\n",
    "                    minute, second = int(t[:2]), int(t[-2:])\n",
    "                    timeframe.append(minute*60 + second)\n",
    "                TWs[curr_ID].append(timeframe)\n",
    "\n",
    "for vid_id in TWs:\n",
    "    title = IDs_to_titles[vid_id]\n",
    "    vid_path = os.path.join(out_dir, title)\n",
    "    if os.path.exists(vid_path):\n",
    "            print('\\tVideo already processed. Skipping.')\n",
    "            continue\n",
    "    subprocess.call(['youtube-dl', 'https://vimeo.com/'+str(vid_id), '-o', out_dir+'/%(title)s.%(ext)s'])"
   ]
  },
  {
   "cell_type": "code",
   "execution_count": null,
   "id": "389dc578",
   "metadata": {},
   "outputs": [],
   "source": []
  }
 ],
 "metadata": {
  "kernelspec": {
   "display_name": "Python 3",
   "language": "python",
   "name": "python3"
  },
  "language_info": {
   "codemirror_mode": {
    "name": "ipython",
    "version": 3
   },
   "file_extension": ".py",
   "mimetype": "text/x-python",
   "name": "python",
   "nbconvert_exporter": "python",
   "pygments_lexer": "ipython3",
   "version": "3.7.7"
  }
 },
 "nbformat": 4,
 "nbformat_minor": 5
}
