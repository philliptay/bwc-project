{
 "cells": [
  {
   "cell_type": "code",
   "execution_count": 14,
   "metadata": {},
   "outputs": [],
   "source": [
    "import pickle as pkl\n",
    "import os\n",
    "import mmcv\n",
    "import cv2 \n",
    "import numpy as np\n",
    "import matplotlib.pyplot as plt\n",
    "\n",
    "from PIL import Image, ImageDraw\n",
    "from matplotlib import patches\n",
    "from IPython import display \n",
    "\n",
    "img_size = 416\n",
    "def draw_bbox_pil(frame, detections):\n",
    "    frame_h, frame_w = frame.size\n",
    "    pad_x = max(frame_w - frame_h, 0) * (img_size / max(frame.size))\n",
    "    pad_y = max(frame_h - frame_w, 0) * (img_size / max(frame.size))\n",
    "    unpad_h = img_size - pad_y\n",
    "    unpad_w = img_size - pad_x\n",
    "    frame_draw = frame.copy()\n",
    "    if detections is not None:\n",
    "        draw = ImageDraw.Draw(frame_draw)\n",
    "        for x1, y1, x2, y2, _, _, _ in detections:\n",
    "            box_h, box_w = ((y2 - y1) / unpad_h) * frame_w, ((x2 - x1) / unpad_w) * frame_h\n",
    "            y1, x1 = ((y1 - pad_y // 2) / unpad_h) * frame_w, ((x1 - pad_x // 2) / unpad_w) * frame_h\n",
    "            y2, x2 = y1 + box_h, x1 + box_w\n",
    "            draw.rectangle([x1, y1, x2, y2], outline=(255, 0, 0), width=3)\n",
    "    return frame_draw\n",
    "\n",
    "def draw_vid_bbox(vid_name, vid_dir, detections_dir, out_dir):\n",
    "    detect_name = vid_name[:-4].replace(' ', '_') + '.pkl'\n",
    "    out_name = vid_name[:-4].replace(' ', '_') + '_PD.mp4'\n",
    "    out_path = os.path.join(out_dir, out_name)\n",
    "    #if os.path.exists(out_path):\n",
    "    #    print('\\tVideo already processed. Skipping.')\n",
    "    #    return\n",
    "\n",
    "    video = mmcv.VideoReader(os.path.join(vid_dir, vid_name))\n",
    "    fps = video.fps\n",
    "    dim = (video.width, video.height)\n",
    "    detect_dict = pkl.load(open(os.path.join(detections_dir, detect_name), 'rb'))\n",
    "\n",
    "    fourcc = cv2.VideoWriter_fourcc(*'MP4V')\n",
    "    video_tracked = cv2.VideoWriter(out_path, fourcc, fps, dim)\n",
    "    for frame_id in range(len(video)):\n",
    "        print('Frame {}'.format(frame_id+1), end='\\r')\n",
    "        frame = video[frame_id]\n",
    "        frame = Image.fromarray(cv2.cvtColor(frame, cv2.COLOR_BGR2RGB))\n",
    "        detections = detect_dict[frame_id] if frame_id in detect_dict else None\n",
    "        frame_draw = draw_bbox_pil(frame, detections)\n",
    "        video_tracked.write(cv2.cvtColor(np.array(frame_draw), cv2.COLOR_RGB2BGR))\n",
    "        if frame_id >= 900 * fps:\n",
    "            break\n",
    "    video_tracked.release()"
   ]
  },
  {
   "cell_type": "code",
   "execution_count": 15,
   "metadata": {},
   "outputs": [],
   "source": [
    "root_dir = '/n/fs/vai-bwc-scr/'\n",
    "detections_dir = os.path.join(root_dir, 'outputs/person_detection/detections')\n",
    "vid_dir = os.path.join(root_dir, 'videos')\n",
    "out_dir = os.path.join(root_dir, 'outputs/person_detection/output_videos')\n",
    "vid_names = os.listdir(vid_dir)\n",
    "vid_name = 'Log#1053667-CHI-R-00001371.mp4'\n"
   ]
  },
  {
   "cell_type": "code",
   "execution_count": 16,
   "metadata": {},
   "outputs": [
    {
     "name": "stdout",
     "output_type": "stream",
     "text": [
      "Frame 25201\r"
     ]
    }
   ],
   "source": [
    "#vid_name = vid_names[222]\n",
    "draw_vid_bbox(vid_name, vid_dir, detections_dir, out_dir)"
   ]
  },
  {
   "cell_type": "code",
   "execution_count": 18,
   "metadata": {},
   "outputs": [
    {
     "name": "stdout",
     "output_type": "stream",
     "text": [
      "Whoops!\n"
     ]
    }
   ],
   "source": [
    "frame = None\n",
    "try:\n",
    "    cv2.cvtColor(frame, cv2.COLOR_BGR2RGB)\n",
    "except:\n",
    "    print('Whoops!')"
   ]
  },
  {
   "cell_type": "code",
   "execution_count": null,
   "metadata": {},
   "outputs": [],
   "source": []
  }
 ],
 "metadata": {
  "kernelspec": {
   "display_name": "Python 3",
   "language": "python",
   "name": "python3"
  },
  "language_info": {
   "codemirror_mode": {
    "name": "ipython",
    "version": 3
   },
   "file_extension": ".py",
   "mimetype": "text/x-python",
   "name": "python",
   "nbconvert_exporter": "python",
   "pygments_lexer": "ipython3",
   "version": "3.7.4"
  }
 },
 "nbformat": 4,
 "nbformat_minor": 4
}
