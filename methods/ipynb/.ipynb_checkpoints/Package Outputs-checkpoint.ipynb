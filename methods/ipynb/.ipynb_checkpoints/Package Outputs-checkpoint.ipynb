{
 "cells": [
  {
   "cell_type": "markdown",
   "metadata": {},
   "source": [
    "# Import Statements and Path Definitions"
   ]
  },
  {
   "cell_type": "code",
   "execution_count": 1,
   "metadata": {},
   "outputs": [],
   "source": [
    "import os\n",
    "\n",
    "root_dir     = '/n/fs/vai-bwc-scr/'\n",
    "TW_dir       = os.path.join(root_dir, 'annotations/TW_annotations')\n",
    "TW_paths     = [os.path.join(TW_dir, x) for x in os.listdir(TW_dir)]\n",
    "title_path   = os.path.join(root_dir, 'annotations/URLs/ids_and_titles.txt')\n",
    "package_path = os.path.join(root_dir, 'outputs/packaged_outputs')"
   ]
  },
  {
   "cell_type": "markdown",
   "metadata": {},
   "source": [
    "# Format TW Annotations onto One File"
   ]
  },
  {
   "cell_type": "code",
   "execution_count": 2,
   "metadata": {},
   "outputs": [],
   "source": [
    "IDs_to_titles = {}\n",
    "with open(title_path, 'r') as f:\n",
    "    for line in f:\n",
    "        line = line.strip()\n",
    "        ID, title = line[:9], line[10:]\n",
    "        title = title.replace(' ', '*')\n",
    "        title = ''.join(title.split())\n",
    "        title = title.replace('*', '_')\n",
    "        IDs_to_titles[ID] = title"
   ]
  },
  {
   "cell_type": "code",
   "execution_count": 4,
   "metadata": {},
   "outputs": [],
   "source": [
    "combined_filename = os.path.join(TW_dir, 'combined_TW.txt')\n",
    "\n",
    "to_write = []\n",
    "for TW_path in TW_paths:\n",
    "    if not \"BWC\" in TW_path or '.swp' in TW_path:\n",
    "        continue\n",
    "    with open(TW_path, 'r') as f:\n",
    "        for line in f:\n",
    "            if 'vimeo' in line: \n",
    "                ID = line.strip().split()[0][-9:]\n",
    "                title = IDs_to_titles[ID]\n",
    "                to_write.append(title + '\\n')\n",
    "            else:\n",
    "                to_write.append(line)\n",
    "        to_write.append('\\n')"
   ]
  },
  {
   "cell_type": "code",
   "execution_count": 7,
   "metadata": {},
   "outputs": [],
   "source": [
    "with open(combined_filename, 'w') as f:\n",
    "    for line in to_write:\n",
    "        f.write(line)"
   ]
  },
  {
   "cell_type": "markdown",
   "metadata": {},
   "source": [
    "# Load in Day vs Night Annotations and Copy Files to Relevant Locations"
   ]
  },
  {
   "cell_type": "code",
   "execution_count": null,
   "metadata": {},
   "outputs": [],
   "source": [
    "anno_path = os.path.join(root_dir, 'annotations/categories/category_annotations.txt')\n",
    "path_dict = {\n",
    "    'FD': {\n",
    "        'output_dir': os.path.join(root_dir, 'outputs/face_detection/output_videos'),\n",
    "        'packaged_dir': os.path.join(root_dir, 'outputs/packaged_outputs/aug_3/face_detection/{}'),\n",
    "        'suffix': '_FD.mp4'\n",
    "    },\n",
    "    'PD': {\n",
    "        'output_dir': os.path.join(root_dir, 'outputs/person_detection/output_videos'),\n",
    "        'packaged_dir': os.path.join(root_dir, 'outputs/packaged_outputs/aug_3/person_detection/{}'),\n",
    "        'suffix': '_PD.mp4'\n",
    "    },\n",
    "}\n",
    "\n",
    "with open(anno_path, 'r') as f:\n",
    "    for line in f:\n",
    "        anno = line.strip().split()[-2]\n",
    "        print(anno)\n",
    "        for key, val in path_dict.items():\n",
    "            filename = line[:line.find('.mp4')].replace(' ', '_') + val['suffix']\n",
    "            filepath = os.path.join(val['output_dir'], filename)\n",
    "            if not os.path.isfile(filepath):\n",
    "                print('{} is not found.'.format(filepath))\n",
    "            "
   ]
  }
 ],
 "metadata": {
  "kernelspec": {
   "display_name": "Python 3",
   "language": "python",
   "name": "python3"
  },
  "language_info": {
   "codemirror_mode": {
    "name": "ipython",
    "version": 3
   },
   "file_extension": ".py",
   "mimetype": "text/x-python",
   "name": "python",
   "nbconvert_exporter": "python",
   "pygments_lexer": "ipython3",
   "version": "3.7.4"
  }
 },
 "nbformat": 4,
 "nbformat_minor": 2
}
